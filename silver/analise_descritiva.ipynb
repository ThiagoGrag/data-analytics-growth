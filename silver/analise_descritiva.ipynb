{
 "cells": [
  {
   "cell_type": "code",
   "execution_count": 0,
   "metadata": {
    "application/vnd.databricks.v1+cell": {
     "cellMetadata": {
      "byteLimit": 2048000,
      "rowLimit": 10000
     },
     "inputWidgets": {},
     "nuid": "3d422642-2afd-451e-916d-186778c3850c",
     "showTitle": false,
     "tableResultSettingsMap": {},
     "title": ""
    }
   },
   "outputs": [],
   "source": [
    "# Análise para entender o comportamento da base de dados\n",
    "import pandas as pd\n",
    "import matplotlib.pyplot as plt\n",
    "from pyspark.sql.types import *\n",
    "from pyspark.sql.functions import col, count, when, isnan, lit\n",
    "from pyspark.sql import SparkSession\n",
    "\n",
    "# Carregando a base\n",
    "df = spark.table('silver.orders_enriched')\n",
    "\n",
    "\n",
    "# Verificando mais nulidades além dos 8.505 campos nulos do customer_id\n",
    "# encontrei mais 2 no campo origin_platform e 1.271 no campo active -> Vou seguir com a exclusão para limpar a base\n",
    "#null_counts = df_clean.select([\n",
    "#    count(when(col(c).isNull(), c)).alias(c)\n",
    "#    for c in df.columns\n",
    "#])\n",
    "#null_counts.show()\n",
    "\n",
    "# Remoção dos nulos do campo customer_id, active e origin_platform\n",
    "df_clean = df.filter(\n",
    "    df[\"customer_id\"].isNotNull() & df['active'].isNotNull() & df['origin_platform'].isNotNull()\n",
    ")\n",
    "\n",
    "\n",
    "# Confirmação da remoção\n",
    "##total_original = df.count()\n",
    "##total_limpo = df_clean.count()\n",
    "\n",
    "##print(f\"linhas removidas: {total_original - total_limpo}\")\n",
    "\n",
    "# Resumo descritivo\n",
    "#df_clean.summary().show()\n",
    "#df_clean.describe().show()"
   ]
  },
  {
   "cell_type": "code",
   "execution_count": 0,
   "metadata": {
    "application/vnd.databricks.v1+cell": {
     "cellMetadata": {
      "byteLimit": 2048000,
      "rowLimit": 10000
     },
     "inputWidgets": {},
     "nuid": "58600d64-8385-4b00-98f5-213e2a51f532",
     "showTitle": false,
     "tableResultSettingsMap": {},
     "title": ""
    }
   },
   "outputs": [],
   "source": [
    "# Continuando com a análise descritiva\n",
    "\n",
    "#df_clean.groupBy('is_target').count().orderBy(\"count\",ascending=False).show() -- A variável target está desbalanceada (target: 2.136.745 e control: 1.525.576)\n",
    "#df_clean.groupBy('active').count().orderBy(\"count\",ascending=False).show() -- A variável true está desbalanceada (true: 3.652.134 e false: 8.914)"
   ]
  },
  {
   "cell_type": "code",
   "execution_count": 0,
   "metadata": {
    "application/vnd.databricks.v1+cell": {
     "cellMetadata": {
      "byteLimit": 2048000,
      "rowLimit": 10000
     },
     "inputWidgets": {},
     "nuid": "fa04e346-cfb8-49a1-ad97-3f6d8470206b",
     "showTitle": false,
     "tableResultSettingsMap": {},
     "title": ""
    }
   },
   "outputs": [],
   "source": [
    "# Análise para entender o comportamento da base de dados\n",
    "import pandas as pd\n",
    "from pyspark.sql.types import *\n",
    "from pyspark.sql import SparkSession\n",
    "\n",
    "# Carregando a base\n",
    "df = spark.table('silver.orders_time')\n",
    "\n",
    "\n",
    "# Resumo descritivo\n",
    "df[\"price_range\",\"order_total_amount\",'delivery_time','minimum_order_value'].summary().show()\n",
    "#df.describe().show()"
   ]
  },
  {
   "cell_type": "code",
   "execution_count": 0,
   "metadata": {
    "application/vnd.databricks.v1+cell": {
     "cellMetadata": {
      "byteLimit": 2048000,
      "rowLimit": 10000
     },
     "inputWidgets": {},
     "nuid": "530bf33a-f0f0-4393-a4c4-44f9dd02ad59",
     "showTitle": false,
     "tableResultSettingsMap": {},
     "title": ""
    }
   },
   "outputs": [],
   "source": [
    "# Código para avaliar quantos dados são duplicados\n",
    "\n",
    "from pyspark.sql.functions import concat_ws, count\n",
    "\n",
    "# Carregando a base\n",
    "df = spark.table('silver.orders_time')\n",
    "\n",
    "\n",
    "chaves = ['order_id','customer_id','order_total_amount','origin_platform']\n",
    "\n",
    "# Criar o concat\n",
    "df_chave = df.withColumn(\"chave_unica\", concat_ws(\"|\",*chaves))\n",
    "                                            \n",
    "duplicacoes = df_chave.groupBy('chave_unica').count().filter('count > 1')\n",
    "qtd_duplicacoes = duplicacoes.selectExpr(\"sum(count -1) as total_duplicacoes\").collect()[0]['total_duplicacoes']\n",
    "\n",
    "print(f\"Quantidade de duplicatas: {qtd_duplicacoes}\")\n",
    "## Confirma as duplicações vistas em SQL\n",
    "\n",
    "# VOu fazer a remoção das duplicações e criar outra base de dados sem as duplicações\n"
   ]
  },
  {
   "cell_type": "code",
   "execution_count": 0,
   "metadata": {
    "application/vnd.databricks.v1+cell": {
     "cellMetadata": {
      "byteLimit": 2048000,
      "rowLimit": 10000
     },
     "inputWidgets": {},
     "nuid": "6586169b-7749-4d6e-9996-c961995d52a2",
     "showTitle": false,
     "tableResultSettingsMap": {},
     "title": ""
    }
   },
   "outputs": [],
   "source": [
    "# Análise para entender o comportamento dos dados da base distinta\n",
    "import pandas as pd\n",
    "from pyspark.sql.types import *\n",
    "from pyspark.sql import SparkSession\n",
    "\n",
    "# Carregando a base\n",
    "df = spark.table('silver.orders_time_distinct')\n",
    "\n",
    "\n",
    "# Resumo descritivo\n",
    "df[\"price_range\",\"order_total_amount\",'delivery_time','minimum_order_value'].summary().show()\n",
    "#df.describe().show()"
   ]
  }
 ],
 "metadata": {
  "application/vnd.databricks.v1+notebook": {
   "computePreferences": null,
   "dashboards": [],
   "environmentMetadata": {
    "base_environment": "",
    "environment_version": "2"
   },
   "inputWidgetPreferences": null,
   "language": "python",
   "notebookMetadata": {
    "pythonIndentUnit": 4
   },
   "notebookName": "analise_descritiva",
   "widgets": {}
  },
  "language_info": {
   "name": "python"
  }
 },
 "nbformat": 4,
 "nbformat_minor": 0
}
