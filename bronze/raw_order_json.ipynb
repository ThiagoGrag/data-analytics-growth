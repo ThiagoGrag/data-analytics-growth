{
 "cells": [
  {
   "cell_type": "code",
   "execution_count": 0,
   "metadata": {
    "application/vnd.databricks.v1+cell": {
     "cellMetadata": {
      "byteLimit": 2048000,
      "rowLimit": 10000
     },
     "inputWidgets": {},
     "nuid": "a51d349b-4461-4ca9-8682-39ece0a933f7",
     "showTitle": false,
     "tableResultSettingsMap": {},
     "title": ""
    }
   },
   "outputs": [],
   "source": [
    "# Fontes e bibliotecas\n",
    "from pyspark.sql.functions import input_file_name\n",
    "from pyspark.sql.types import *\n",
    "import urllib.request # Requisição para baixar arquivo na internet\n",
    "import gzip # descompactar gzip\n",
    "import os # utilizar sistema operacional\n",
    "\n",
    "# Parâmetros\n",
    "# Tinha um erro no link do arquivo: estava como 'sour-ce' e na verdade é 'source'\n",
    "url = 'https://data-architect-test-source.s3-sa-east-1.amazonaws.com/order.json.gz'\n",
    "local_path = \"/tmp/order.json.gz\"\n",
    "bronze_path = \"dbfs:/mnt/bronze/raw_order\" \n",
    "\n",
    "# Baixar arquivo\n",
    "urllib.request.urlretrieve(url, local_path)\n",
    "\n",
    "# Leitura do JSON\n",
    "# file:// é utilizado para não buscar DBFS\n",
    "# multline porque o json tem mais de uma linha por objeto\n",
    "df = spark.read.json(f\"file://{local_path}\", multiLine=True)\n",
    "\n",
    "# Verificando\n",
    "df.columns()        \n",
    "df.schema.simpleString()  \n",
    "df.display()\n",
    "\n",
    "# Escrevendo no DBFS\n",
    "df.write.format(\"delta\").mode(\"overwrite\").save(bronze_path)\n",
    "\n",
    "# Registro como tabela para manipulação SQL\n",
    "spark.sql(f\"\"\"\n",
    "          CREATE TABLE IF NOT EXISTS raw_order\n",
    "          USING DELTA\n",
    "          LOCATION '{bronze_path}'\n",
    "          \"\"\")"
   ]
  }
 ],
 "metadata": {
  "application/vnd.databricks.v1+notebook": {
   "computePreferences": null,
   "dashboards": [],
   "environmentMetadata": {
    "base_environment": "",
    "environment_version": "2"
   },
   "inputWidgetPreferences": null,
   "language": "python",
   "notebookMetadata": {
    "pythonIndentUnit": 4
   },
   "notebookName": "raw_order_json",
   "widgets": {}
  },
  "language_info": {
   "name": "python"
  }
 },
 "nbformat": 4,
 "nbformat_minor": 0
}
