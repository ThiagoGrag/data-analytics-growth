{
 "cells": [
  {
   "cell_type": "code",
   "execution_count": 0,
   "metadata": {
    "application/vnd.databricks.v1+cell": {
     "cellMetadata": {
      "byteLimit": 2048000,
      "rowLimit": 10000
     },
     "inputWidgets": {},
     "nuid": "c6c6c804-0971-41e0-adca-3bc41dfc2057",
     "showTitle": false,
     "tableResultSettingsMap": {},
     "title": ""
    }
   },
   "outputs": [],
   "source": [
    "# Fontes e bibliotecas\n",
    "from pyspark.sql.functions import input_file_name\n",
    "from pyspark.sql.types import *\n",
    "\n",
    "\n",
    "# Parâmetros\n",
    "# Tinha um erro no link do arquivo: estava como 'sour-ce' e na verdade é 'source'\n",
    "s3_path_consumer = \"s3a://data-architect-test-source/consumer.csv.gz\"\n",
    "\n",
    "\n",
    "# Leitura do JSON\n",
    "# multline porque o json tem mais de uma linha por objeto\n",
    "df_consumer = spark.read.option(\"header\", True).option(\"inferSchema\", True).csv(s3_path_consumer)\n",
    "\n",
    "# Verificando\n",
    "print(df_consumer.columns)\n",
    "display(df_consumer)\n",
    "\n"
   ]
  }
 ],
 "metadata": {
  "application/vnd.databricks.v1+notebook": {
   "computePreferences": null,
   "dashboards": [],
   "environmentMetadata": {
    "base_environment": "",
    "environment_version": "2"
   },
   "inputWidgetPreferences": null,
   "language": "python",
   "notebookMetadata": {
    "pythonIndentUnit": 4
   },
   "notebookName": "raw_consumer_csv",
   "widgets": {}
  },
  "language_info": {
   "name": "python"
  }
 },
 "nbformat": 4,
 "nbformat_minor": 0
}
