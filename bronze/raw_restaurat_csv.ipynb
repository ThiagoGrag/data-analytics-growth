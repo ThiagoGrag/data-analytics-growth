{
 "cells": [
  {
   "cell_type": "code",
   "execution_count": 0,
   "metadata": {
    "application/vnd.databricks.v1+cell": {
     "cellMetadata": {
      "byteLimit": 2048000,
      "rowLimit": 10000
     },
     "inputWidgets": {},
     "nuid": "fd28e866-b19b-4c3b-8e8e-a3ab5ca0501f",
     "showTitle": false,
     "tableResultSettingsMap": {},
     "title": ""
    }
   },
   "outputs": [],
   "source": [
    "# Fontes e bibliotecas\n",
    "from pyspark.sql.functions import input_file_name\n",
    "from pyspark.sql.types import *\n",
    "\n",
    "\n",
    "# Parâmetros\n",
    "# Tinha um erro no link do arquivo: estava como 'sour-ce' e na verdade é 'source'\n",
    "s3_path_restaurant = \"s3a://data-architect-test-source/restaurant.csv.gz\"\n",
    "\n",
    "\n",
    "# Leitura do JSON\n",
    "df_restaurant = spark.read.option(\"header\", True).option(\"inferSchema\", True).csv(s3_path_restaurant)\n",
    "\n",
    "# Verificando\n",
    "print(df_restaurant.columns)\n",
    "display(df_restaurant)"
   ]
  }
 ],
 "metadata": {
  "application/vnd.databricks.v1+notebook": {
   "computePreferences": null,
   "dashboards": [],
   "environmentMetadata": {
    "base_environment": "",
    "environment_version": "2"
   },
   "inputWidgetPreferences": null,
   "language": "python",
   "notebookMetadata": {
    "pythonIndentUnit": 4
   },
   "notebookName": "raw_restaurat_csv",
   "widgets": {}
  },
  "language_info": {
   "name": "python"
  }
 },
 "nbformat": 4,
 "nbformat_minor": 0
}
