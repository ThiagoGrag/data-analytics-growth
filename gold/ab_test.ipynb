{
 "cells": [
  {
   "cell_type": "code",
   "execution_count": 0,
   "metadata": {
    "application/vnd.databricks.v1+cell": {
     "cellMetadata": {
      "byteLimit": 2048000,
      "rowLimit": 10000
     },
     "inputWidgets": {},
     "nuid": "80a44007-d525-4b10-bea8-fd1d075d3eba",
     "showTitle": false,
     "tableResultSettingsMap": {},
     "title": ""
    }
   },
   "outputs": [],
   "source": [
    "# Teste t para verificar significância estatística entre o grupo controle e target utilizando o ticket médio e a frequência\n",
    "from scipy.stats import t\n",
    "import math\n",
    "\n",
    "def teste_ab_resumido(media1, std1, n1, media2, std2, n2, alpha=0.05, nome_metrica=\"\"):\n",
    "    \"\"\"\n",
    "    Realiza um teste t de Welch com média, desvio padrão e tamanho das amostras.\n",
    "    \"\"\"\n",
    "    # Estatística t\n",
    "    t_stat = (media1 - media2) / math.sqrt((std1**2 / n1) + (std2**2 / n2))\n",
    "    \n",
    "    # Graus de liberdade aproximados\n",
    "    df = ((std1**2 / n1 + std2**2 / n2) ** 2) / \\\n",
    "         (((std1**2 / n1) ** 2) / (n1 - 1) + ((std2**2 / n2) ** 2) / (n2 - 1))\n",
    "    \n",
    "    # P-valor (bilateral)\n",
    "    p_valor = 2 * t.sf(abs(t_stat), df)\n",
    "\n",
    "    # Resultado\n",
    "    print(f\"\\n Resultado para: {nome_metrica}\")\n",
    "    print(f\"Estatística t: {t_stat:.4f}\")\n",
    "    print(f\"Graus de liberdade: {df:.2f}\")\n",
    "    print(f\"P-valor: {p_valor:.4f}\")\n",
    "    \n",
    "    if p_valor < alpha:\n",
    "        print(\"Rejeitamos H0: há diferença significativa entre os grupos.\")\n",
    "    else:\n",
    "        print(\"Não rejeitamos H0: não há diferença significativa entre os grupos.\")\n",
    "\n",
    "        #1ª \n",
    "        #H0 = Não há diferença significativa entre o controle e o target no ticket médio por cliente\n",
    "        #H1 = Há diferença significativa entre o controle e o target no ticket médio por cliente \n",
    "\n",
    "        #2ª \n",
    "        #H0 = Não há diferença significativa entre o controle e o target na frequência\n",
    "        #H1 = Há diferença significativa entre o controle e o target na frequência\n",
    "\n",
    "\n",
    "# Variáveis de entrada\n",
    "media_target = 47.8973 # 2.6337 # 47.8973\n",
    "std_target = 46.7112 # 2.9219 # 46.7112\n",
    "n_target = 381475\n",
    "\n",
    "media_controle = 48.0488 # 2.7969 # 48.0488\n",
    "std_controle = 126.4620 # 3.5780 # 126.4620\n",
    "n_controle = 359219\n",
    "\n",
    "teste_ab_resumido(\n",
    "    media1=media_target, std1=std_target, n1=n_target,\n",
    "    media2=media_controle, std2=std_controle, n2=n_controle,\n",
    "    nome_metrica= \"Ticket Médio\" #'Frequência' #\"Ticket Médio\"\n",
    ")\n",
    "\n"
   ]
  },
  {
   "cell_type": "code",
   "execution_count": 0,
   "metadata": {
    "application/vnd.databricks.v1+cell": {
     "cellMetadata": {
      "byteLimit": 2048000,
      "rowLimit": 10000
     },
     "inputWidgets": {},
     "nuid": "254d0be0-106e-444b-8937-c3c69dcfcdcc",
     "showTitle": false,
     "tableResultSettingsMap": {},
     "title": ""
    }
   },
   "outputs": [],
   "source": [
    "# Código para rodar o teste ANOVA - Plataforma de Origem\n",
    "import pandas as pd\n",
    "import statsmodels.api as sm\n",
    "from statsmodels.formula.api import ols\n",
    "\n",
    "# Carregando em PySpark\n",
    "# Seleção de colunas que vou utilizar no modelo. Já desempacotando utilizando o '*'\n",
    "selected_cols = ['origin_platform','frequencia','ticket_medio','is_target'] \n",
    "df = spark.table(\"gold.abtest_platform\").select(*selected_cols)\n",
    "\n",
    "# Transformando em Pandas\n",
    "df_pd = df.toPandas()\n",
    "\n",
    "# Modelo ANOVA Two-Way com interação\n",
    "modelo_ticket_medio = ols('ticket_medio ~ C(is_target) + C(origin_platform) + C(is_target):C(origin_platform)', data=df_pd).fit()\n",
    "modelo_frequencia = ols('frequencia ~ C(is_target) + C(origin_platform) + C(is_target):C(origin_platform)', data=df_pd).fit()\n",
    "\n",
    "# Tabela ANOVA\n",
    "anova_tabela_tm = sm.stats.anova_lm(modelo_ticket_medio, typ=2)\n",
    "anova_tabela_freq = sm.stats.anova_lm(modelo_frequencia, typ=2)\n",
    "\n",
    "# Resultado\n",
    "#print(anova_tabela_tm)\n",
    "print(anova_tabela_freq)\n",
    "anova_tabela_freq.display()"
   ]
  },
  {
   "cell_type": "code",
   "execution_count": 0,
   "metadata": {
    "application/vnd.databricks.v1+cell": {
     "cellMetadata": {
      "byteLimit": 2048000,
      "rowLimit": 10000
     },
     "inputWidgets": {},
     "nuid": "61f701a3-8b94-4c24-b095-5b53052f03f9",
     "showTitle": false,
     "tableResultSettingsMap": {},
     "title": ""
    }
   },
   "outputs": [],
   "source": [
    "# Código para rodar o teste ANOVA - Faixa de preço\n",
    "import pandas as pd\n",
    "import statsmodels.api as sm\n",
    "from statsmodels.formula.api import ols\n",
    "\n",
    "# Carregando em PySpark\n",
    "# Seleção de colunas que vou utilizar no modelo. Já desempacotando utilizando o '*'\n",
    "selected_cols = ['price_range','frequencia','ticket_medio','is_target'] \n",
    "df = spark.table(\"gold.abtest_price_range\").select(*selected_cols)\n",
    "\n",
    "# Transformando em Pandas\n",
    "df_pd = df.toPandas()\n",
    "\n",
    "# Modelo ANOVA Two-Way com interação\n",
    "modelo_ticket_medio = ols('ticket_medio ~ C(is_target) + C(price_range) + C(is_target):C(price_range)', data=df_pd).fit()\n",
    "modelo_frequencia = ols('frequencia ~ C(is_target) + C(price_range) + C(is_target):C(price_range)', data=df_pd).fit()\n",
    "\n",
    "# Tabela ANOVA\n",
    "anova_tabela_tm = sm.stats.anova_lm(modelo_ticket_medio, typ=2)\n",
    "anova_tabela_freq = sm.stats.anova_lm(modelo_frequencia, typ=2)\n",
    "\n",
    "# Resultado\n",
    "anova_tabela_tm.display()\n",
    "#anova_tabela_freq.display()"
   ]
  },
  {
   "cell_type": "code",
   "execution_count": 0,
   "metadata": {
    "application/vnd.databricks.v1+cell": {
     "cellMetadata": {
      "byteLimit": 2048000,
      "rowLimit": 10000
     },
     "inputWidgets": {},
     "nuid": "a42bdb45-da86-4570-874d-1e74b791ccc5",
     "showTitle": false,
     "tableResultSettingsMap": {},
     "title": ""
    }
   },
   "outputs": [],
   "source": [
    "# Código para rodar o teste ANOVA - Valor mínimo\n",
    "import pandas as pd\n",
    "import statsmodels.api as sm\n",
    "from statsmodels.formula.api import ols\n",
    "\n",
    "# Carregando em PySpark\n",
    "# Seleção de colunas que vou utilizar no modelo. Já desempacotando utilizando o '*'\n",
    "selected_cols = ['minimum_order_value_class','frequencia','ticket_medio','is_target'] \n",
    "df = spark.table(\"gold.abtest_minimum_value\").select(*selected_cols)\n",
    "\n",
    "# Transformando em Pandas\n",
    "df_pd = df.toPandas()\n",
    "\n",
    "# Modelo ANOVA Two-Way com interação\n",
    "modelo_ticket_medio = ols('ticket_medio ~ C(is_target) + C(minimum_order_value_class) + C(is_target):C(minimum_order_value_class)', data=df_pd).fit()\n",
    "modelo_frequencia = ols('frequencia ~ C(is_target) + C(minimum_order_value_class) + C(is_target):C(minimum_order_value_class)', data=df_pd).fit()\n",
    "\n",
    "# Tabela ANOVA\n",
    "anova_tabela_tm = sm.stats.anova_lm(modelo_ticket_medio, typ=2)\n",
    "anova_tabela_freq = sm.stats.anova_lm(modelo_frequencia, typ=2)\n",
    "\n",
    "# Resultado\n",
    "#anova_tabela_tm.display()\n",
    "anova_tabela_freq.display()"
   ]
  },
  {
   "cell_type": "code",
   "execution_count": 0,
   "metadata": {
    "application/vnd.databricks.v1+cell": {
     "cellMetadata": {
      "byteLimit": 2048000,
      "rowLimit": 10000
     },
     "inputWidgets": {},
     "nuid": "45ecd907-eb98-43e6-9115-34fda3603565",
     "showTitle": false,
     "tableResultSettingsMap": {},
     "title": ""
    }
   },
   "outputs": [],
   "source": [
    "# Código para rodar o teste ANOVA - Tempo entrega\n",
    "import pandas as pd\n",
    "import statsmodels.api as sm\n",
    "from statsmodels.formula.api import ols\n",
    "\n",
    "# Carregando em PySpark\n",
    "# Seleção de colunas que vou utilizar no modelo. Já desempacotando utilizando o '*'\n",
    "selected_cols = ['delivery_time_class','frequencia','ticket_medio','is_target'] \n",
    "df = spark.table(\"gold.abtest_delivery_time\").select(*selected_cols)\n",
    "\n",
    "# Transformando em Pandas\n",
    "df_pd = df.toPandas()\n",
    "\n",
    "# Modelo ANOVA Two-Way com interação\n",
    "modelo_ticket_medio = ols('ticket_medio ~ C(is_target) + C(delivery_time_class) + C(is_target):C(delivery_time_class)', data=df_pd).fit()\n",
    "modelo_frequencia = ols('frequencia ~ C(is_target) + C(delivery_time_class) + C(is_target):C(delivery_time_class)', data=df_pd).fit()\n",
    "\n",
    "# Tabela ANOVA\n",
    "anova_tabela_tm = sm.stats.anova_lm(modelo_ticket_medio, typ=2)\n",
    "anova_tabela_freq = sm.stats.anova_lm(modelo_frequencia, typ=2)\n",
    "\n",
    "# Resultado\n",
    "#anova_tabela_tm.display()\n",
    "anova_tabela_freq.display()"
   ]
  },
  {
   "cell_type": "code",
   "execution_count": 0,
   "metadata": {
    "application/vnd.databricks.v1+cell": {
     "cellMetadata": {
      "byteLimit": 2048000,
      "rowLimit": 10000
     },
     "inputWidgets": {},
     "nuid": "2b811cb9-869a-4509-9d17-a64587c4015e",
     "showTitle": false,
     "tableResultSettingsMap": {},
     "title": ""
    }
   },
   "outputs": [],
   "source": [
    "# Código para rodar o teste ANOVA - Região\n",
    "import pandas as pd\n",
    "import statsmodels.api as sm\n",
    "from statsmodels.formula.api import ols\n",
    "\n",
    "# Carregando em PySpark\n",
    "# Seleção de colunas que vou utilizar no modelo. Já desempacotando utilizando o '*'\n",
    "selected_cols = ['delivery_region','frequencia','ticket_medio','is_target'] \n",
    "df = spark.table(\"gold.abtest_region\").select(*selected_cols)\n",
    "\n",
    "# Transformando em Pandas\n",
    "df_pd = df.toPandas()\n",
    "\n",
    "# Modelo ANOVA Two-Way com interação\n",
    "modelo_ticket_medio = ols('ticket_medio ~ C(is_target) + C(delivery_region) + C(is_target):C(delivery_region)', data=df_pd).fit()\n",
    "modelo_frequencia = ols('frequencia ~ C(is_target) + C(delivery_region) + C(is_target):C(delivery_region)', data=df_pd).fit()\n",
    "\n",
    "# Tabela ANOVA\n",
    "anova_tabela_tm = sm.stats.anova_lm(modelo_ticket_medio, typ=2)\n",
    "anova_tabela_freq = sm.stats.anova_lm(modelo_frequencia, typ=2)\n",
    "\n",
    "# Resultado\n",
    "anova_tabela_tm.display()\n",
    "#anova_tabela_freq.display()"
   ]
  },
  {
   "cell_type": "code",
   "execution_count": 0,
   "metadata": {
    "application/vnd.databricks.v1+cell": {
     "cellMetadata": {
      "byteLimit": 2048000,
      "rowLimit": 10000
     },
     "inputWidgets": {},
     "nuid": "e83fea51-8e33-4bfa-919c-6358fb806ad0",
     "showTitle": false,
     "tableResultSettingsMap": {},
     "title": ""
    }
   },
   "outputs": [],
   "source": [
    "# Código para rodar o teste ANOVA - Cluster\n",
    "import pandas as pd\n",
    "import statsmodels.api as sm\n",
    "from statsmodels.formula.api import ols\n",
    "\n",
    "# Carregando em PySpark\n",
    "# Seleção de colunas que vou utilizar no modelo. Já desempacotando utilizando o '*'\n",
    "selected_cols = ['cluster','frequencia','ticket_medio','is_target'] \n",
    "df = spark.table(\"gold.abtest_cluster\").select(*selected_cols)\n",
    "\n",
    "# Transformando em Pandas\n",
    "df_pd = df.toPandas()\n",
    "\n",
    "# Modelo ANOVA Two-Way com interação\n",
    "modelo_ticket_medio = ols('ticket_medio ~ C(is_target) + C(cluster) + C(is_target):C(cluster)', data=df_pd).fit()\n",
    "modelo_frequencia = ols('frequencia ~ C(is_target) + C(cluster) + C(is_target):C(cluster)', data=df_pd).fit()\n",
    "\n",
    "# Tabela ANOVA\n",
    "anova_tabela_tm = sm.stats.anova_lm(modelo_ticket_medio, typ=2)\n",
    "anova_tabela_freq = sm.stats.anova_lm(modelo_frequencia, typ=2)\n",
    "\n",
    "# Resultado\n",
    "#anova_tabela_tm.display()\n",
    "anova_tabela_freq.display()"
   ]
  }
 ],
 "metadata": {
  "application/vnd.databricks.v1+notebook": {
   "computePreferences": null,
   "dashboards": [],
   "environmentMetadata": {
    "base_environment": "",
    "environment_version": "2"
   },
   "inputWidgetPreferences": null,
   "language": "python",
   "notebookMetadata": {
    "pythonIndentUnit": 4
   },
   "notebookName": "ab_test",
   "widgets": {}
  },
  "language_info": {
   "name": "python"
  }
 },
 "nbformat": 4,
 "nbformat_minor": 0
}
